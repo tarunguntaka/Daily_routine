{
 "cells": [
  {
   "cell_type": "markdown",
   "id": "italian-floating",
   "metadata": {},
   "source": [
    "# Leet Code \n"
   ]
  },
  {
   "cell_type": "markdown",
   "id": "meaningful-submission",
   "metadata": {},
   "source": [
    "contains duplicate \n"
   ]
  },
  {
   "cell_type": "code",
   "execution_count": 1,
   "id": "absent-isolation",
   "metadata": {},
   "outputs": [
    {
     "data": {
      "text/plain": [
       "{1, 2, 3, 4}"
      ]
     },
     "execution_count": 1,
     "metadata": {},
     "output_type": "execute_result"
    }
   ],
   "source": [
    "l = [1,2,3,3,3,4,4]\n",
    "set(l)"
   ]
  },
  {
   "cell_type": "code",
   "execution_count": 7,
   "id": "numeric-hometown",
   "metadata": {},
   "outputs": [
    {
     "data": {
      "text/plain": [
       "set"
      ]
     },
     "execution_count": 7,
     "metadata": {},
     "output_type": "execute_result"
    }
   ],
   "source": [
    "type(set(l))"
   ]
  },
  {
   "cell_type": "code",
   "execution_count": 2,
   "id": "formal-dover",
   "metadata": {},
   "outputs": [
    {
     "data": {
      "text/plain": [
       "4"
      ]
     },
     "execution_count": 2,
     "metadata": {},
     "output_type": "execute_result"
    }
   ],
   "source": [
    "len(set(l))"
   ]
  },
  {
   "cell_type": "code",
   "execution_count": 3,
   "id": "portuguese-flood",
   "metadata": {},
   "outputs": [
    {
     "data": {
      "text/plain": [
       "True"
      ]
     },
     "execution_count": 3,
     "metadata": {},
     "output_type": "execute_result"
    }
   ],
   "source": [
    "len(set(l))<len(l)"
   ]
  },
  {
   "cell_type": "markdown",
   "id": "controlled-durham",
   "metadata": {},
   "source": [
    "read more set operations \n",
    "\n"
   ]
  },
  {
   "cell_type": "markdown",
   "id": "super-greece",
   "metadata": {},
   "source": [
    "###"
   ]
  },
  {
   "cell_type": "code",
   "execution_count": null,
   "id": "indoor-andrew",
   "metadata": {},
   "outputs": [],
   "source": []
  }
 ],
 "metadata": {
  "kernelspec": {
   "display_name": "Python 3",
   "language": "python",
   "name": "python3"
  },
  "language_info": {
   "codemirror_mode": {
    "name": "ipython",
    "version": 3
   },
   "file_extension": ".py",
   "mimetype": "text/x-python",
   "name": "python",
   "nbconvert_exporter": "python",
   "pygments_lexer": "ipython3",
   "version": "3.8.5"
  }
 },
 "nbformat": 4,
 "nbformat_minor": 5
}
