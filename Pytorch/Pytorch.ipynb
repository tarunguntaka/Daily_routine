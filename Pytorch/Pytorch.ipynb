{
 "cells": [
  {
   "cell_type": "code",
   "execution_count": 64,
   "metadata": {},
   "outputs": [],
   "source": [
    "import torch\n",
    "import numpy as np"
   ]
  },
  {
   "cell_type": "code",
   "execution_count": 4,
   "metadata": {},
   "outputs": [],
   "source": [
    "x = torch.rand(5,3)"
   ]
  },
  {
   "cell_type": "code",
   "execution_count": 5,
   "metadata": {},
   "outputs": [
    {
     "data": {
      "text/plain": [
       "tensor([[0.1548, 0.7831, 0.4702],\n",
       "        [0.4144, 0.5198, 0.5823],\n",
       "        [0.8071, 0.8574, 0.2671],\n",
       "        [0.1107, 0.8574, 0.7235],\n",
       "        [0.0949, 0.5352, 0.0087]])"
      ]
     },
     "execution_count": 5,
     "metadata": {},
     "output_type": "execute_result"
    }
   ],
   "source": [
    "x"
   ]
  },
  {
   "cell_type": "code",
   "execution_count": 6,
   "metadata": {},
   "outputs": [
    {
     "data": {
      "text/plain": [
       "tensor([[0.1548, 0.7831, 0.4702],\n",
       "        [0.4144, 0.5198, 0.5823],\n",
       "        [0.8071, 0.8574, 0.2671],\n",
       "        [0.1107, 0.8574, 0.7235],\n",
       "        [0.0949, 0.5352, 0.0087]])"
      ]
     },
     "execution_count": 6,
     "metadata": {},
     "output_type": "execute_result"
    }
   ],
   "source": []
  },
  {
   "cell_type": "code",
   "execution_count": 8,
   "metadata": {},
   "outputs": [
    {
     "data": {
      "text/plain": [
       "False"
      ]
     },
     "execution_count": 8,
     "metadata": {},
     "output_type": "execute_result"
    }
   ],
   "source": [
    "torch.cuda.is_available()"
   ]
  },
  {
   "cell_type": "code",
   "execution_count": 18,
   "metadata": {},
   "outputs": [],
   "source": [
    "x= torch.empty(10)\n"
   ]
  },
  {
   "cell_type": "code",
   "execution_count": 20,
   "metadata": {},
   "outputs": [
    {
     "data": {
      "text/plain": [
       "tensor([-1.0419e+28,  4.5853e-41, -1.0420e+28,  4.5853e-41, -1.0419e+28,\n",
       "         4.5853e-41, -1.0411e+28,  4.5853e-41, -1.0422e+28,  4.5853e-41])"
      ]
     },
     "execution_count": 20,
     "metadata": {},
     "output_type": "execute_result"
    }
   ],
   "source": [
    "x"
   ]
  },
  {
   "cell_type": "code",
   "execution_count": 25,
   "metadata": {},
   "outputs": [
    {
     "data": {
      "text/plain": [
       "tensor([[0.7038, 0.5945],\n",
       "        [0.7644, 0.5447]])"
      ]
     },
     "execution_count": 25,
     "metadata": {},
     "output_type": "execute_result"
    }
   ],
   "source": [
    "x = torch.rand(2,2)\n",
    "x"
   ]
  },
  {
   "cell_type": "code",
   "execution_count": 26,
   "metadata": {},
   "outputs": [],
   "source": [
    "x = torch.zeros(2,2)"
   ]
  },
  {
   "cell_type": "code",
   "execution_count": 27,
   "metadata": {},
   "outputs": [
    {
     "data": {
      "text/plain": [
       "tensor([[0., 0.],\n",
       "        [0., 0.]])"
      ]
     },
     "execution_count": 27,
     "metadata": {},
     "output_type": "execute_result"
    }
   ],
   "source": [
    "x"
   ]
  },
  {
   "cell_type": "code",
   "execution_count": 29,
   "metadata": {},
   "outputs": [
    {
     "data": {
      "text/plain": [
       "torch.Size([2, 2])"
      ]
     },
     "execution_count": 29,
     "metadata": {},
     "output_type": "execute_result"
    }
   ],
   "source": [
    "x.size()"
   ]
  },
  {
   "cell_type": "code",
   "execution_count": 30,
   "metadata": {},
   "outputs": [],
   "source": [
    "x = torch.tensor([1,2,3,4,5])"
   ]
  },
  {
   "cell_type": "code",
   "execution_count": 31,
   "metadata": {},
   "outputs": [
    {
     "data": {
      "text/plain": [
       "tensor([1, 2, 3, 4, 5])"
      ]
     },
     "execution_count": 31,
     "metadata": {},
     "output_type": "execute_result"
    }
   ],
   "source": [
    "x"
   ]
  },
  {
   "cell_type": "code",
   "execution_count": 33,
   "metadata": {},
   "outputs": [
    {
     "data": {
      "text/plain": [
       "tensor([[1.4396, 1.0148],\n",
       "        [1.2372, 0.2954]])"
      ]
     },
     "execution_count": 33,
     "metadata": {},
     "output_type": "execute_result"
    }
   ],
   "source": [
    "x = torch.rand(2,2)\n",
    "y = torch.rand(2,2)\n",
    "x+y"
   ]
  },
  {
   "cell_type": "code",
   "execution_count": 34,
   "metadata": {},
   "outputs": [
    {
     "data": {
      "text/plain": [
       "tensor([[0.4418, 0.2129],\n",
       "        [0.8392, 0.2212]])"
      ]
     },
     "execution_count": 34,
     "metadata": {},
     "output_type": "execute_result"
    }
   ],
   "source": [
    "x"
   ]
  },
  {
   "cell_type": "code",
   "execution_count": 35,
   "metadata": {},
   "outputs": [
    {
     "data": {
      "text/plain": [
       "tensor([[0.9979, 0.8019],\n",
       "        [0.3980, 0.0743]])"
      ]
     },
     "execution_count": 35,
     "metadata": {},
     "output_type": "execute_result"
    }
   ],
   "source": [
    "y"
   ]
  },
  {
   "cell_type": "code",
   "execution_count": 36,
   "metadata": {},
   "outputs": [],
   "source": [
    "k = torch.add(x,y)"
   ]
  },
  {
   "cell_type": "code",
   "execution_count": 37,
   "metadata": {},
   "outputs": [
    {
     "data": {
      "text/plain": [
       "tensor([[1.4396, 1.0148],\n",
       "        [1.2372, 0.2954]])"
      ]
     },
     "execution_count": 37,
     "metadata": {},
     "output_type": "execute_result"
    }
   ],
   "source": [
    "k"
   ]
  },
  {
   "cell_type": "code",
   "execution_count": 39,
   "metadata": {},
   "outputs": [
    {
     "data": {
      "text/plain": [
       "tensor([[1.4396, 1.0148],\n",
       "        [1.2372, 0.2954]])"
      ]
     },
     "execution_count": 39,
     "metadata": {},
     "output_type": "execute_result"
    }
   ],
   "source": [
    "y.add_(x) # inplace addition "
   ]
  },
  {
   "cell_type": "code",
   "execution_count": 40,
   "metadata": {},
   "outputs": [
    {
     "data": {
      "text/plain": [
       "tensor([[0.6360, 0.2160],\n",
       "        [1.0383, 0.0653]])"
      ]
     },
     "execution_count": 40,
     "metadata": {},
     "output_type": "execute_result"
    }
   ],
   "source": [
    "y.mul_(x)"
   ]
  },
  {
   "cell_type": "code",
   "execution_count": 41,
   "metadata": {},
   "outputs": [
    {
     "data": {
      "text/plain": [
       "tensor([[0.6360, 0.2160],\n",
       "        [1.0383, 0.0653]])"
      ]
     },
     "execution_count": 41,
     "metadata": {},
     "output_type": "execute_result"
    }
   ],
   "source": [
    "y"
   ]
  },
  {
   "cell_type": "code",
   "execution_count": 42,
   "metadata": {},
   "outputs": [
    {
     "data": {
      "text/plain": [
       "tensor([[1.4396, 1.0148],\n",
       "        [1.2372, 0.2954]])"
      ]
     },
     "execution_count": 42,
     "metadata": {},
     "output_type": "execute_result"
    }
   ],
   "source": [
    "y.div_(x)"
   ]
  },
  {
   "cell_type": "code",
   "execution_count": 45,
   "metadata": {},
   "outputs": [
    {
     "data": {
      "text/plain": [
       "tensor([0.4418, 0.8392])"
      ]
     },
     "execution_count": 45,
     "metadata": {},
     "output_type": "execute_result"
    }
   ],
   "source": [
    "x[:,0]"
   ]
  },
  {
   "cell_type": "code",
   "execution_count": 46,
   "metadata": {},
   "outputs": [
    {
     "data": {
      "text/plain": [
       "tensor([[0.4418, 0.2129],\n",
       "        [0.8392, 0.2212]])"
      ]
     },
     "execution_count": 46,
     "metadata": {},
     "output_type": "execute_result"
    }
   ],
   "source": [
    "x"
   ]
  },
  {
   "cell_type": "code",
   "execution_count": 51,
   "metadata": {},
   "outputs": [],
   "source": [
    "x = torch.rand(5,5)"
   ]
  },
  {
   "cell_type": "code",
   "execution_count": 52,
   "metadata": {},
   "outputs": [
    {
     "data": {
      "text/plain": [
       "tensor([[0.7862, 0.3414, 0.9490, 0.2727, 0.4378],\n",
       "        [0.4011, 0.3286, 0.6405, 0.1518, 0.7475],\n",
       "        [0.0968, 0.3792, 0.2088, 0.8460, 0.6801],\n",
       "        [0.5139, 0.8783, 0.6955, 0.4491, 0.3945],\n",
       "        [0.3098, 0.1996, 0.9347, 0.9462, 0.5152]])"
      ]
     },
     "execution_count": 52,
     "metadata": {},
     "output_type": "execute_result"
    }
   ],
   "source": [
    "x"
   ]
  },
  {
   "cell_type": "code",
   "execution_count": 55,
   "metadata": {},
   "outputs": [],
   "source": [
    "x1 = x.view(25)# reshaping a tensor"
   ]
  },
  {
   "cell_type": "code",
   "execution_count": 56,
   "metadata": {},
   "outputs": [
    {
     "data": {
      "text/plain": [
       "tensor([0.7862, 0.3414, 0.9490, 0.2727, 0.4378, 0.4011, 0.3286, 0.6405, 0.1518,\n",
       "        0.7475, 0.0968, 0.3792, 0.2088, 0.8460, 0.6801, 0.5139, 0.8783, 0.6955,\n",
       "        0.4491, 0.3945, 0.3098, 0.1996, 0.9347, 0.9462, 0.5152])"
      ]
     },
     "execution_count": 56,
     "metadata": {},
     "output_type": "execute_result"
    }
   ],
   "source": [
    "x1"
   ]
  },
  {
   "cell_type": "code",
   "execution_count": 62,
   "metadata": {},
   "outputs": [],
   "source": [
    "x = x.view(25)"
   ]
  },
  {
   "cell_type": "code",
   "execution_count": 63,
   "metadata": {},
   "outputs": [
    {
     "data": {
      "text/plain": [
       "tensor([0.7862, 0.3414, 0.9490, 0.2727, 0.4378, 0.4011, 0.3286, 0.6405, 0.1518,\n",
       "        0.7475, 0.0968, 0.3792, 0.2088, 0.8460, 0.6801, 0.5139, 0.8783, 0.6955,\n",
       "        0.4491, 0.3945, 0.3098, 0.1996, 0.9347, 0.9462, 0.5152])"
      ]
     },
     "execution_count": 63,
     "metadata": {},
     "output_type": "execute_result"
    }
   ],
   "source": [
    "x"
   ]
  },
  {
   "cell_type": "code",
   "execution_count": 65,
   "metadata": {},
   "outputs": [],
   "source": [
    "a = torch.ones(5)"
   ]
  },
  {
   "cell_type": "code",
   "execution_count": 66,
   "metadata": {},
   "outputs": [
    {
     "data": {
      "text/plain": [
       "tensor([1., 1., 1., 1., 1.])"
      ]
     },
     "execution_count": 66,
     "metadata": {},
     "output_type": "execute_result"
    }
   ],
   "source": [
    "a"
   ]
  },
  {
   "cell_type": "code",
   "execution_count": 67,
   "metadata": {},
   "outputs": [],
   "source": [
    "b = a.numpy()"
   ]
  },
  {
   "cell_type": "code",
   "execution_count": 68,
   "metadata": {},
   "outputs": [
    {
     "data": {
      "text/plain": [
       "array([1., 1., 1., 1., 1.], dtype=float32)"
      ]
     },
     "execution_count": 68,
     "metadata": {},
     "output_type": "execute_result"
    }
   ],
   "source": [
    "b"
   ]
  },
  {
   "cell_type": "code",
   "execution_count": 69,
   "metadata": {},
   "outputs": [],
   "source": [
    "# if the tensor is on cpu not gpu, both objects have same memory location "
   ]
  },
  {
   "cell_type": "code",
   "execution_count": 70,
   "metadata": {},
   "outputs": [
    {
     "data": {
      "text/plain": [
       "tensor([2., 2., 2., 2., 2.])"
      ]
     },
     "execution_count": 70,
     "metadata": {},
     "output_type": "execute_result"
    }
   ],
   "source": [
    "a.add_(1)"
   ]
  },
  {
   "cell_type": "code",
   "execution_count": 71,
   "metadata": {},
   "outputs": [
    {
     "data": {
      "text/plain": [
       "array([2., 2., 2., 2., 2.], dtype=float32)"
      ]
     },
     "execution_count": 71,
     "metadata": {},
     "output_type": "execute_result"
    }
   ],
   "source": [
    "b"
   ]
  },
  {
   "cell_type": "code",
   "execution_count": 72,
   "metadata": {},
   "outputs": [],
   "source": [
    "# change in a -> change in b \n"
   ]
  },
  {
   "cell_type": "code",
   "execution_count": 73,
   "metadata": {},
   "outputs": [],
   "source": [
    "# if you want to optimize sny tensor we have to set require_grad to true"
   ]
  },
  {
   "cell_type": "code",
   "execution_count": 75,
   "metadata": {},
   "outputs": [],
   "source": [
    "x = torch.ones(5,requires_grad = True)"
   ]
  },
  {
   "cell_type": "code",
   "execution_count": 77,
   "metadata": {},
   "outputs": [],
   "source": [
    "x = torch.rand(4,3, requires_grad=True)"
   ]
  },
  {
   "cell_type": "code",
   "execution_count": 78,
   "metadata": {},
   "outputs": [
    {
     "data": {
      "text/plain": [
       "tensor([[0.3910, 0.3687, 0.2287],\n",
       "        [0.5890, 0.5110, 0.4971],\n",
       "        [0.7672, 0.5090, 0.9396],\n",
       "        [0.2801, 0.9281, 0.4716]], requires_grad=True)"
      ]
     },
     "execution_count": 78,
     "metadata": {},
     "output_type": "execute_result"
    }
   ],
   "source": [
    "x"
   ]
  },
  {
   "cell_type": "markdown",
   "metadata": {},
   "source": [
    "## autograd package"
   ]
  },
  {
   "cell_type": "code",
   "execution_count": 84,
   "metadata": {},
   "outputs": [],
   "source": [
    "x = torch.rand(5,5, requires_grad=True)"
   ]
  },
  {
   "cell_type": "code",
   "execution_count": 85,
   "metadata": {},
   "outputs": [
    {
     "data": {
      "text/plain": [
       "tensor([[0.5635, 0.9481, 0.5907, 0.0808, 0.7994],\n",
       "        [0.0551, 0.9632, 0.7353, 0.2971, 0.2257],\n",
       "        [0.8988, 0.2630, 0.4730, 0.9986, 0.6421],\n",
       "        [0.5011, 0.9367, 0.7896, 0.3333, 0.9210],\n",
       "        [0.8219, 0.2627, 0.8552, 0.8712, 0.9136]], requires_grad=True)"
      ]
     },
     "execution_count": 85,
     "metadata": {},
     "output_type": "execute_result"
    }
   ],
   "source": [
    "x"
   ]
  },
  {
   "cell_type": "code",
   "execution_count": 86,
   "metadata": {},
   "outputs": [],
   "source": [
    "z = x+3"
   ]
  },
  {
   "cell_type": "code",
   "execution_count": 87,
   "metadata": {},
   "outputs": [
    {
     "data": {
      "text/plain": [
       "tensor([[3.5635, 3.9481, 3.5907, 3.0808, 3.7994],\n",
       "        [3.0551, 3.9632, 3.7353, 3.2971, 3.2257],\n",
       "        [3.8988, 3.2630, 3.4730, 3.9986, 3.6421],\n",
       "        [3.5011, 3.9367, 3.7896, 3.3333, 3.9210],\n",
       "        [3.8219, 3.2627, 3.8552, 3.8712, 3.9136]], grad_fn=<AddBackward0>)"
      ]
     },
     "execution_count": 87,
     "metadata": {},
     "output_type": "execute_result"
    }
   ],
   "source": [
    "z"
   ]
  },
  {
   "cell_type": "code",
   "execution_count": 88,
   "metadata": {},
   "outputs": [],
   "source": [
    "z1 = x*x*x*3"
   ]
  },
  {
   "cell_type": "code",
   "execution_count": 91,
   "metadata": {},
   "outputs": [
    {
     "data": {
      "text/plain": [
       "tensor([[5.3669e-01, 2.5566e+00, 6.1835e-01, 1.5802e-03, 1.5326e+00],\n",
       "        [5.0113e-04, 2.6812e+00, 1.1925e+00, 7.8696e-02, 3.4513e-02],\n",
       "        [2.1783e+00, 5.4580e-02, 3.1752e-01, 2.9875e+00, 7.9412e-01],\n",
       "        [3.7743e-01, 2.4656e+00, 1.4768e+00, 1.1105e-01, 2.3434e+00],\n",
       "        [1.6657e+00, 5.4404e-02, 1.8762e+00, 1.9836e+00, 2.2874e+00]],\n",
       "       grad_fn=<MulBackward0>)"
      ]
     },
     "execution_count": 91,
     "metadata": {},
     "output_type": "execute_result"
    }
   ],
   "source": [
    "z1"
   ]
  },
  {
   "cell_type": "code",
   "execution_count": 95,
   "metadata": {},
   "outputs": [],
   "source": [
    "z1 = z1.mean()"
   ]
  },
  {
   "cell_type": "code",
   "execution_count": 96,
   "metadata": {},
   "outputs": [
    {
     "data": {
      "text/plain": [
       "tensor(1.2083, grad_fn=<MeanBackward0>)"
      ]
     },
     "execution_count": 96,
     "metadata": {},
     "output_type": "execute_result"
    }
   ],
   "source": [
    "z1"
   ]
  },
  {
   "cell_type": "code",
   "execution_count": 97,
   "metadata": {},
   "outputs": [],
   "source": [
    "z1.backward()"
   ]
  },
  {
   "cell_type": "code",
   "execution_count": 102,
   "metadata": {},
   "outputs": [],
   "source": [
    "grad = x.grad"
   ]
  },
  {
   "cell_type": "code",
   "execution_count": 101,
   "metadata": {},
   "outputs": [
    {
     "data": {
      "text/plain": [
       "tensor([[0.5635, 0.9481, 0.5907, 0.0808, 0.7994],\n",
       "        [0.0551, 0.9632, 0.7353, 0.2971, 0.2257],\n",
       "        [0.8988, 0.2630, 0.4730, 0.9986, 0.6421],\n",
       "        [0.5011, 0.9367, 0.7896, 0.3333, 0.9210],\n",
       "        [0.8219, 0.2627, 0.8552, 0.8712, 0.9136]], requires_grad=True)"
      ]
     },
     "execution_count": 101,
     "metadata": {},
     "output_type": "execute_result"
    }
   ],
   "source": [
    "x"
   ]
  },
  {
   "cell_type": "markdown",
   "metadata": {},
   "source": [
    "## backprop"
   ]
  },
  {
   "cell_type": "code",
   "execution_count": 105,
   "metadata": {},
   "outputs": [],
   "source": [
    "x = torch.tensor(1.0)\n",
    "y= torch.tensor(2.0)\n",
    "\n",
    "\n",
    "w = torch.tensor(1.0 , requires_grad = True)"
   ]
  },
  {
   "cell_type": "code",
   "execution_count": 112,
   "metadata": {},
   "outputs": [],
   "source": [
    "y_ht = w*x\n",
    "loss= (y-y_ht)**2"
   ]
  },
  {
   "cell_type": "code",
   "execution_count": 113,
   "metadata": {},
   "outputs": [
    {
     "data": {
      "text/plain": [
       "(tensor(1., grad_fn=<MulBackward0>), tensor(1., grad_fn=<PowBackward0>))"
      ]
     },
     "execution_count": 113,
     "metadata": {},
     "output_type": "execute_result"
    }
   ],
   "source": [
    "y_ht, loss"
   ]
  },
  {
   "cell_type": "code",
   "execution_count": 114,
   "metadata": {},
   "outputs": [],
   "source": [
    "loss.backward()"
   ]
  },
  {
   "cell_type": "code",
   "execution_count": 124,
   "metadata": {},
   "outputs": [],
   "source": [
    "grad_w = w.grad"
   ]
  },
  {
   "cell_type": "code",
   "execution_count": 125,
   "metadata": {},
   "outputs": [
    {
     "data": {
      "text/plain": [
       "tensor(-2.)"
      ]
     },
     "execution_count": 125,
     "metadata": {},
     "output_type": "execute_result"
    }
   ],
   "source": [
    "grad_w"
   ]
  },
  {
   "cell_type": "code",
   "execution_count": 126,
   "metadata": {},
   "outputs": [
    {
     "data": {
      "text/plain": [
       "array([1., 1., 1., 1., 1.])"
      ]
     },
     "execution_count": 126,
     "metadata": {},
     "output_type": "execute_result"
    }
   ],
   "source": [
    "np.ones(5)"
   ]
  },
  {
   "cell_type": "markdown",
   "metadata": {},
   "source": [
    "## grad descent\n",
    "\n"
   ]
  },
  {
   "cell_type": "code",
   "execution_count": 1,
   "metadata": {},
   "outputs": [],
   "source": [
    "import numpy as np"
   ]
  },
  {
   "cell_type": "code",
   "execution_count": 11,
   "metadata": {},
   "outputs": [
    {
     "name": "stdout",
     "output_type": "stream",
     "text": [
      "0--loss is 44.0--y is [ 2  4  6  8 10]-- y_pred is [0. 0. 0. 0. 0.]\n",
      "1--loss is 0.4400000000000004--y is [ 2  4  6  8 10]-- y_pred is [ 2.2  4.4  6.6  8.8 11. ]\n",
      "2--loss is 0.004400000000000001--y is [ 2  4  6  8 10]-- y_pred is [1.98 3.96 5.94 7.92 9.9 ]\n",
      "3--loss is 4.399999999998676e-05--y is [ 2  4  6  8 10]-- y_pred is [ 2.002  4.004  6.006  8.008 10.01 ]\n",
      "4--loss is 4.39999999999832e-07--y is [ 2  4  6  8 10]-- y_pred is [1.9998 3.9996 5.9994 7.9992 9.999 ]\n",
      "5--loss is 4.4000000000221235e-09--y is [ 2  4  6  8 10]-- y_pred is [ 2.00002  4.00004  6.00006  8.00008 10.0001 ]\n",
      "6--loss is 4.399999999347108e-11--y is [ 2  4  6  8 10]-- y_pred is [1.999998 3.999996 5.999994 7.999992 9.99999 ]\n",
      "7--loss is 4.400000005848574e-13--y is [ 2  4  6  8 10]-- y_pred is [ 2.0000002  4.0000004  6.0000006  8.0000008 10.000001 ]\n",
      "8--loss is 4.4000000761923046e-15--y is [ 2  4  6  8 10]-- y_pred is [1.99999998 3.99999996 5.99999994 7.99999992 9.9999999 ]\n",
      "9--loss is 4.400000728115295e-17--y is [ 2  4  6  8 10]-- y_pred is [ 2.          4.          6.00000001  8.00000001 10.00000001]\n"
     ]
    }
   ],
   "source": [
    "X = np.array([1,2,3,4,5])\n",
    "Y = np.array([2,4,6,8,10])\n",
    "\n",
    "w = 0.0 \n",
    "\n",
    "#f = w*x \n",
    "\n",
    "def forward(x):\n",
    "    return w*x\n",
    "\n",
    "def loss(y,y_pred):\n",
    "    return ((y-y_pred)**2).mean()\n",
    "\n",
    "def grad(x,y,y_pred):\n",
    "    return np.dot(2*x,y_pred-y).mean()\n",
    "\n",
    "\n",
    "#training \n",
    "\n",
    "lr=0.01\n",
    "epochs = 10 \n",
    "\n",
    "for epoch in range(epochs):\n",
    "    \n",
    "    y_pred = forward(X)\n",
    "    \n",
    "    cal_loss = loss(Y,y_pred)\n",
    "    \n",
    "    g = grad(X,Y,y_pred)\n",
    "    \n",
    "    w -= lr*g\n",
    "    \n",
    "    print(f'{epoch}--loss is {cal_loss}--y is {Y}-- y_pred is {y_pred}')\n",
    "    \n",
    "    \n",
    "    \n"
   ]
  },
  {
   "cell_type": "markdown",
   "metadata": {},
   "source": [
    "## gd using torch"
   ]
  },
  {
   "cell_type": "code",
   "execution_count": 22,
   "metadata": {},
   "outputs": [
    {
     "name": "stdout",
     "output_type": "stream",
     "text": [
      "0--loss is 4.400000728115295e-17--y is tensor([ 2,  4,  6,  8, 10])-- y_pred is tensor([0., 0., 0., 0., 0.], grad_fn=<MulBackward0>)\n",
      "1--loss is 4.400000728115295e-17--y is tensor([ 2,  4,  6,  8, 10])-- y_pred is tensor([0.4400, 0.8800, 1.3200, 1.7600, 2.2000], grad_fn=<MulBackward0>)\n",
      "2--loss is 4.400000728115295e-17--y is tensor([ 2,  4,  6,  8, 10])-- y_pred is tensor([0.7832, 1.5664, 2.3496, 3.1328, 3.9160], grad_fn=<MulBackward0>)\n",
      "3--loss is 4.400000728115295e-17--y is tensor([ 2,  4,  6,  8, 10])-- y_pred is tensor([1.0509, 2.1018, 3.1527, 4.2036, 5.2545], grad_fn=<MulBackward0>)\n",
      "4--loss is 4.400000728115295e-17--y is tensor([ 2,  4,  6,  8, 10])-- y_pred is tensor([1.2597, 2.5194, 3.7791, 5.0388, 6.2985], grad_fn=<MulBackward0>)\n",
      "5--loss is 4.400000728115295e-17--y is tensor([ 2,  4,  6,  8, 10])-- y_pred is tensor([1.4226, 2.8451, 4.2677, 5.6903, 7.1128], grad_fn=<MulBackward0>)\n",
      "6--loss is 4.400000728115295e-17--y is tensor([ 2,  4,  6,  8, 10])-- y_pred is tensor([1.5496, 3.0992, 4.6488, 6.1984, 7.7480], grad_fn=<MulBackward0>)\n",
      "7--loss is 4.400000728115295e-17--y is tensor([ 2,  4,  6,  8, 10])-- y_pred is tensor([1.6487, 3.2974, 4.9461, 6.5948, 8.2434], grad_fn=<MulBackward0>)\n",
      "8--loss is 4.400000728115295e-17--y is tensor([ 2,  4,  6,  8, 10])-- y_pred is tensor([1.7260, 3.4520, 5.1779, 6.9039, 8.6299], grad_fn=<MulBackward0>)\n",
      "9--loss is 4.400000728115295e-17--y is tensor([ 2,  4,  6,  8, 10])-- y_pred is tensor([1.7863, 3.5725, 5.3588, 7.1450, 8.9313], grad_fn=<MulBackward0>)\n",
      "10--loss is 4.400000728115295e-17--y is tensor([ 2,  4,  6,  8, 10])-- y_pred is tensor([1.8333, 3.6666, 5.4999, 7.3331, 9.1664], grad_fn=<MulBackward0>)\n",
      "11--loss is 4.400000728115295e-17--y is tensor([ 2,  4,  6,  8, 10])-- y_pred is tensor([1.8700, 3.7399, 5.6099, 7.4798, 9.3498], grad_fn=<MulBackward0>)\n",
      "12--loss is 4.400000728115295e-17--y is tensor([ 2,  4,  6,  8, 10])-- y_pred is tensor([1.8986, 3.7971, 5.6957, 7.5943, 9.4929], grad_fn=<MulBackward0>)\n",
      "13--loss is 4.400000728115295e-17--y is tensor([ 2,  4,  6,  8, 10])-- y_pred is tensor([1.9209, 3.8418, 5.7627, 7.6835, 9.6044], grad_fn=<MulBackward0>)\n",
      "14--loss is 4.400000728115295e-17--y is tensor([ 2,  4,  6,  8, 10])-- y_pred is tensor([1.9383, 3.8766, 5.8149, 7.7532, 9.6915], grad_fn=<MulBackward0>)\n",
      "15--loss is 4.400000728115295e-17--y is tensor([ 2,  4,  6,  8, 10])-- y_pred is tensor([1.9519, 3.9037, 5.8556, 7.8075, 9.7593], grad_fn=<MulBackward0>)\n",
      "16--loss is 4.400000728115295e-17--y is tensor([ 2,  4,  6,  8, 10])-- y_pred is tensor([1.9625, 3.9249, 5.8874, 7.8498, 9.8123], grad_fn=<MulBackward0>)\n",
      "17--loss is 4.400000728115295e-17--y is tensor([ 2,  4,  6,  8, 10])-- y_pred is tensor([1.9707, 3.9414, 5.9121, 7.8829, 9.8536], grad_fn=<MulBackward0>)\n",
      "18--loss is 4.400000728115295e-17--y is tensor([ 2,  4,  6,  8, 10])-- y_pred is tensor([1.9772, 3.9543, 5.9315, 7.9086, 9.8858], grad_fn=<MulBackward0>)\n",
      "19--loss is 4.400000728115295e-17--y is tensor([ 2,  4,  6,  8, 10])-- y_pred is tensor([1.9822, 3.9644, 5.9465, 7.9287, 9.9109], grad_fn=<MulBackward0>)\n",
      "20--loss is 4.400000728115295e-17--y is tensor([ 2,  4,  6,  8, 10])-- y_pred is tensor([1.9861, 3.9722, 5.9583, 7.9444, 9.9305], grad_fn=<MulBackward0>)\n",
      "21--loss is 4.400000728115295e-17--y is tensor([ 2,  4,  6,  8, 10])-- y_pred is tensor([1.9892, 3.9783, 5.9675, 7.9566, 9.9458], grad_fn=<MulBackward0>)\n",
      "22--loss is 4.400000728115295e-17--y is tensor([ 2,  4,  6,  8, 10])-- y_pred is tensor([1.9915, 3.9831, 5.9746, 7.9662, 9.9577], grad_fn=<MulBackward0>)\n",
      "23--loss is 4.400000728115295e-17--y is tensor([ 2,  4,  6,  8, 10])-- y_pred is tensor([1.9934, 3.9868, 5.9802, 7.9736, 9.9670], grad_fn=<MulBackward0>)\n",
      "24--loss is 4.400000728115295e-17--y is tensor([ 2,  4,  6,  8, 10])-- y_pred is tensor([1.9949, 3.9897, 5.9846, 7.9794, 9.9743], grad_fn=<MulBackward0>)\n",
      "25--loss is 4.400000728115295e-17--y is tensor([ 2,  4,  6,  8, 10])-- y_pred is tensor([1.9960, 3.9920, 5.9880, 7.9840, 9.9799], grad_fn=<MulBackward0>)\n",
      "26--loss is 4.400000728115295e-17--y is tensor([ 2,  4,  6,  8, 10])-- y_pred is tensor([1.9969, 3.9937, 5.9906, 7.9875, 9.9844], grad_fn=<MulBackward0>)\n",
      "27--loss is 4.400000728115295e-17--y is tensor([ 2,  4,  6,  8, 10])-- y_pred is tensor([1.9976, 3.9951, 5.9927, 7.9902, 9.9878], grad_fn=<MulBackward0>)\n",
      "28--loss is 4.400000728115295e-17--y is tensor([ 2,  4,  6,  8, 10])-- y_pred is tensor([1.9981, 3.9962, 5.9943, 7.9924, 9.9905], grad_fn=<MulBackward0>)\n",
      "29--loss is 4.400000728115295e-17--y is tensor([ 2,  4,  6,  8, 10])-- y_pred is tensor([1.9985, 3.9970, 5.9955, 7.9941, 9.9926], grad_fn=<MulBackward0>)\n",
      "30--loss is 4.400000728115295e-17--y is tensor([ 2,  4,  6,  8, 10])-- y_pred is tensor([1.9988, 3.9977, 5.9965, 7.9954, 9.9942], grad_fn=<MulBackward0>)\n",
      "31--loss is 4.400000728115295e-17--y is tensor([ 2,  4,  6,  8, 10])-- y_pred is tensor([1.9991, 3.9982, 5.9973, 7.9964, 9.9955], grad_fn=<MulBackward0>)\n",
      "32--loss is 4.400000728115295e-17--y is tensor([ 2,  4,  6,  8, 10])-- y_pred is tensor([1.9993, 3.9986, 5.9979, 7.9972, 9.9965], grad_fn=<MulBackward0>)\n",
      "33--loss is 4.400000728115295e-17--y is tensor([ 2,  4,  6,  8, 10])-- y_pred is tensor([1.9995, 3.9989, 5.9984, 7.9978, 9.9973], grad_fn=<MulBackward0>)\n",
      "34--loss is 4.400000728115295e-17--y is tensor([ 2,  4,  6,  8, 10])-- y_pred is tensor([1.9996, 3.9991, 5.9987, 7.9983, 9.9979], grad_fn=<MulBackward0>)\n",
      "35--loss is 4.400000728115295e-17--y is tensor([ 2,  4,  6,  8, 10])-- y_pred is tensor([1.9997, 3.9993, 5.9990, 7.9987, 9.9983], grad_fn=<MulBackward0>)\n",
      "36--loss is 4.400000728115295e-17--y is tensor([ 2,  4,  6,  8, 10])-- y_pred is tensor([1.9997, 3.9995, 5.9992, 7.9990, 9.9987], grad_fn=<MulBackward0>)\n",
      "37--loss is 4.400000728115295e-17--y is tensor([ 2,  4,  6,  8, 10])-- y_pred is tensor([1.9998, 3.9996, 5.9994, 7.9992, 9.9990], grad_fn=<MulBackward0>)\n",
      "38--loss is 4.400000728115295e-17--y is tensor([ 2,  4,  6,  8, 10])-- y_pred is tensor([1.9998, 3.9997, 5.9995, 7.9994, 9.9992], grad_fn=<MulBackward0>)\n",
      "39--loss is 4.400000728115295e-17--y is tensor([ 2,  4,  6,  8, 10])-- y_pred is tensor([1.9999, 3.9998, 5.9996, 7.9995, 9.9994], grad_fn=<MulBackward0>)\n",
      "40--loss is 4.400000728115295e-17--y is tensor([ 2,  4,  6,  8, 10])-- y_pred is tensor([1.9999, 3.9998, 5.9997, 7.9996, 9.9995], grad_fn=<MulBackward0>)\n",
      "41--loss is 4.400000728115295e-17--y is tensor([ 2,  4,  6,  8, 10])-- y_pred is tensor([1.9999, 3.9998, 5.9998, 7.9997, 9.9996], grad_fn=<MulBackward0>)\n",
      "42--loss is 4.400000728115295e-17--y is tensor([ 2,  4,  6,  8, 10])-- y_pred is tensor([1.9999, 3.9999, 5.9998, 7.9998, 9.9997], grad_fn=<MulBackward0>)\n",
      "43--loss is 4.400000728115295e-17--y is tensor([ 2,  4,  6,  8, 10])-- y_pred is tensor([2.0000, 3.9999, 5.9999, 7.9998, 9.9998], grad_fn=<MulBackward0>)\n",
      "44--loss is 4.400000728115295e-17--y is tensor([ 2,  4,  6,  8, 10])-- y_pred is tensor([2.0000, 3.9999, 5.9999, 7.9999, 9.9998], grad_fn=<MulBackward0>)\n",
      "45--loss is 4.400000728115295e-17--y is tensor([ 2,  4,  6,  8, 10])-- y_pred is tensor([2.0000, 3.9999, 5.9999, 7.9999, 9.9999], grad_fn=<MulBackward0>)\n",
      "46--loss is 4.400000728115295e-17--y is tensor([ 2,  4,  6,  8, 10])-- y_pred is tensor([2.0000, 4.0000, 5.9999, 7.9999, 9.9999], grad_fn=<MulBackward0>)\n",
      "47--loss is 4.400000728115295e-17--y is tensor([ 2,  4,  6,  8, 10])-- y_pred is tensor([2.0000, 4.0000, 5.9999, 7.9999, 9.9999], grad_fn=<MulBackward0>)\n",
      "48--loss is 4.400000728115295e-17--y is tensor([ 2,  4,  6,  8, 10])-- y_pred is tensor([2.0000, 4.0000, 6.0000, 7.9999, 9.9999], grad_fn=<MulBackward0>)\n",
      "49--loss is 4.400000728115295e-17--y is tensor([ 2,  4,  6,  8, 10])-- y_pred is tensor([2.0000, 4.0000, 6.0000, 8.0000, 9.9999], grad_fn=<MulBackward0>)\n"
     ]
    }
   ],
   "source": [
    "import torch\n",
    "\n",
    "X = torch.tensor([1,2,3,4,5])\n",
    "Y = torch.tensor([2,4,6,8,10])\n",
    "\n",
    "w = torch.tensor(0.0,requires_grad= True)\n",
    "\n",
    "def forward(x):\n",
    "    return w*x\n",
    "\n",
    "def loss(y,y_pred):\n",
    "    return ((y_pred-y)**2).mean()\n",
    "\n",
    "#training\n",
    "\n",
    "lr = 0.01\n",
    "epochs = 50\n",
    "\n",
    "\n",
    "for epoch in range(epochs):\n",
    "    \n",
    "    y_pred = forward(X)\n",
    "    \n",
    "    l = loss(Y,y_pred)\n",
    "    \n",
    "    l.backward()\n",
    "    \n",
    "    with torch.no_grad():\n",
    "        w -= lr*w.grad\n",
    "    \n",
    "    w.grad.zero_()\n",
    "    \n",
    "    print(f'{epoch}--loss is {cal_loss}--y is {Y}-- y_pred is {y_pred}')\n",
    "    \n",
    "    \n",
    "    \n",
    "    \n",
    "    \n",
    "\n",
    "\n",
    "\n",
    "\n"
   ]
  },
  {
   "cell_type": "code",
   "execution_count": null,
   "metadata": {},
   "outputs": [],
   "source": []
  }
 ],
 "metadata": {
  "kernelspec": {
   "display_name": "Python 3",
   "language": "python",
   "name": "python3"
  },
  "language_info": {
   "codemirror_mode": {
    "name": "ipython",
    "version": 3
   },
   "file_extension": ".py",
   "mimetype": "text/x-python",
   "name": "python",
   "nbconvert_exporter": "python",
   "pygments_lexer": "ipython3",
   "version": "3.8.5"
  }
 },
 "nbformat": 4,
 "nbformat_minor": 4
}
