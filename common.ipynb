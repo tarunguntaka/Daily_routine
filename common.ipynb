{
 "cells": [
  {
   "cell_type": "markdown",
   "id": "italian-floating",
   "metadata": {},
   "source": [
    "# Leet Code \n"
   ]
  },
  {
   "cell_type": "markdown",
   "id": "meaningful-submission",
   "metadata": {},
   "source": [
    "contains duplicate \n"
   ]
  },
  {
   "cell_type": "code",
   "execution_count": 1,
   "id": "absent-isolation",
   "metadata": {},
   "outputs": [
    {
     "data": {
      "text/plain": [
       "{1, 2, 3, 4}"
      ]
     },
     "execution_count": 1,
     "metadata": {},
     "output_type": "execute_result"
    }
   ],
   "source": [
    "l = [1,2,3,3,3,4,4]\n",
    "set(l)"
   ]
  },
  {
   "cell_type": "code",
   "execution_count": 7,
   "id": "numeric-hometown",
   "metadata": {},
   "outputs": [
    {
     "data": {
      "text/plain": [
       "set"
      ]
     },
     "execution_count": 7,
     "metadata": {},
     "output_type": "execute_result"
    }
   ],
   "source": [
    "type(set(l))"
   ]
  },
  {
   "cell_type": "code",
   "execution_count": 2,
   "id": "formal-dover",
   "metadata": {},
   "outputs": [
    {
     "data": {
      "text/plain": [
       "4"
      ]
     },
     "execution_count": 2,
     "metadata": {},
     "output_type": "execute_result"
    }
   ],
   "source": [
    "len(set(l))"
   ]
  },
  {
   "cell_type": "code",
   "execution_count": 3,
   "id": "portuguese-flood",
   "metadata": {},
   "outputs": [
    {
     "data": {
      "text/plain": [
       "True"
      ]
     },
     "execution_count": 3,
     "metadata": {},
     "output_type": "execute_result"
    }
   ],
   "source": [
    "len(set(l))<len(l)"
   ]
  },
  {
   "cell_type": "markdown",
   "id": "controlled-durham",
   "metadata": {},
   "source": [
    "read more set operations \n",
    "\n"
   ]
  },
  {
   "cell_type": "markdown",
   "id": "super-greece",
   "metadata": {},
   "source": [
    "###"
   ]
  },
  {
   "cell_type": "code",
   "execution_count": 2,
   "id": "geographic-title",
   "metadata": {},
   "outputs": [
    {
     "data": {
      "text/plain": [
       "[1, 2, 3]"
      ]
     },
     "execution_count": 2,
     "metadata": {},
     "output_type": "execute_result"
    }
   ],
   "source": [
    "list(range(1,4))"
   ]
  },
  {
   "cell_type": "markdown",
   "id": "funny-wealth",
   "metadata": {},
   "source": [
    "## find all numbers disappeared "
   ]
  },
  {
   "cell_type": "code",
   "execution_count": null,
   "id": "impossible-giving",
   "metadata": {},
   "outputs": [],
   "source": [
    "#def findDisappearedNumbers(self, nums: List[int]) -> List[int]:\n",
    "        #return list(set(range(1,len(nums)+1)).difference(set(nums)))\n",
    "        "
   ]
  },
  {
   "cell_type": "code",
   "execution_count": 4,
   "id": "joined-contribution",
   "metadata": {},
   "outputs": [],
   "source": [
    "l1 = [1,2,1,2,3]\n",
    "l2 = [1,2,3]"
   ]
  },
  {
   "cell_type": "markdown",
   "id": "unable-small",
   "metadata": {},
   "source": [
    "### l1.count(1) gives us  the elements with that specific count"
   ]
  },
  {
   "cell_type": "code",
   "execution_count": 3,
   "id": "inappropriate-commercial",
   "metadata": {},
   "outputs": [
    {
     "data": {
      "text/plain": [
       "2"
      ]
     },
     "execution_count": 3,
     "metadata": {},
     "output_type": "execute_result"
    }
   ],
   "source": [
    "list(set(l1).symmetric_difference(set())"
   ]
  },
  {
   "cell_type": "markdown",
   "id": "mobile-consultation",
   "metadata": {},
   "source": [
    "\n",
    "## climbing stairs -  fibbonacci \n"
   ]
  },
  {
   "cell_type": "code",
   "execution_count": 1,
   "id": "small-debut",
   "metadata": {},
   "outputs": [],
   "source": [
    "# a,b = 1,0\n",
    "# for _ in range(n):\n",
    "#     a,b = a+b,a # temp = b , b = a+b , a = temp \n",
    "#     return a"
   ]
  },
  {
   "cell_type": "markdown",
   "id": "loaded-settle",
   "metadata": {},
   "source": [
    "# max value and max index of a list "
   ]
  },
  {
   "cell_type": "code",
   "execution_count": 9,
   "id": "fallen-composite",
   "metadata": {},
   "outputs": [
    {
     "data": {
      "text/plain": [
       "2"
      ]
     },
     "execution_count": 9,
     "metadata": {},
     "output_type": "execute_result"
    }
   ],
   "source": [
    "prices = [1,2]\n",
    "a = len(prices)\n",
    "dif = [prices[i]-prices[i-1] for i in range(1,a)]\n",
    "max_diff = max(dif)\n",
    "max_index = dif.index(max_diff)\n",
    "prices[max_index+1]"
   ]
  },
  {
   "cell_type": "code",
   "execution_count": 10,
   "id": "traditional-wells",
   "metadata": {},
   "outputs": [
    {
     "data": {
      "text/plain": [
       "[1]"
      ]
     },
     "execution_count": 10,
     "metadata": {},
     "output_type": "execute_result"
    }
   ],
   "source": [
    "dif"
   ]
  },
  {
   "cell_type": "code",
   "execution_count": 8,
   "id": "moving-broadcast",
   "metadata": {},
   "outputs": [
    {
     "data": {
      "text/plain": [
       "4"
      ]
     },
     "execution_count": 8,
     "metadata": {},
     "output_type": "execute_result"
    }
   ],
   "source": [
    "max_diff"
   ]
  },
  {
   "cell_type": "code",
   "execution_count": 14,
   "id": "celtic-laptop",
   "metadata": {},
   "outputs": [],
   "source": [
    "l =[4,3,2,1\n",
    "   ]"
   ]
  },
  {
   "cell_type": "code",
   "execution_count": 15,
   "id": "posted-columbus",
   "metadata": {},
   "outputs": [
    {
     "data": {
      "text/plain": [
       "False"
      ]
     },
     "execution_count": 15,
     "metadata": {},
     "output_type": "execute_result"
    }
   ],
   "source": [
    "all(l[i] <= l[i+1] for i in range(len(l)-1))"
   ]
  },
  {
   "cell_type": "code",
   "execution_count": null,
   "id": "boring-parcel",
   "metadata": {},
   "outputs": [],
   "source": []
  }
 ],
 "metadata": {
  "kernelspec": {
   "display_name": "Python 3",
   "language": "python",
   "name": "python3"
  },
  "language_info": {
   "codemirror_mode": {
    "name": "ipython",
    "version": 3
   },
   "file_extension": ".py",
   "mimetype": "text/x-python",
   "name": "python",
   "nbconvert_exporter": "python",
   "pygments_lexer": "ipython3",
   "version": "3.8.5"
  }
 },
 "nbformat": 4,
 "nbformat_minor": 5
}
